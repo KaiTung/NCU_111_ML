{
 "cells": [
  {
   "cell_type": "code",
   "execution_count": null,
   "metadata": {},
   "outputs": [],
   "source": [
    "# Import data analysis Library\n",
    "import numpy as np\n",
    "import numpy.random as random\n",
    "import scipy as sp\n",
    "from pandas import Series, DataFrame\n",
    "import pandas as pd\n",
    "\n",
    "# Visualization Library\n",
    "import matplotlib.pyplot as plt\n",
    "import matplotlib as mpl\n",
    "import seaborn as sns\n",
    "%matplotlib inline\n",
    "\n",
    "# Machine Learning Library\n",
    "import sklearn\n",
    "\n",
    "# Three digits after decimal point\n",
    "%precision 3"
   ]
  },
  {
   "cell_type": "code",
   "execution_count": 2,
   "metadata": {},
   "outputs": [],
   "source": [
    "import requests, zipfile\n",
    "import io\n",
    "\n",
    "# Read car selling data\n",
    "url = 'http://archive.ics.uci.edu/ml/machine-learning-databases/autos/imports-85.data'\n",
    "res = requests.get(url).content\n",
    "\n",
    "# Make the data be DataFrame\n",
    "auto = pd.read_csv(io.StringIO(res.decode('utf-8')), header=None)\n",
    "\n",
    "# Set tages in the data column\n",
    "auto.columns =['symboling','normalized-losses','make','fuel-type' ,'aspiration','num-of-doors',\n",
    "                            'body-style','drive-wheels','engine-location','wheel-base','length','width','height',\n",
    "                            'curb-weight','engine-type','num-of-cylinders','engine-size','fuel-system','bore',\n",
    "                            'stroke','compression-ratio','horsepower','peak-rpm','city-mpg','highway-mpg','price']"
   ]
  },
  {
   "cell_type": "code",
   "execution_count": null,
   "metadata": {},
   "outputs": [],
   "source": [
    "print('Dimension of Data:{}'.format(auto.shape))"
   ]
  },
  {
   "cell_type": "code",
   "execution_count": null,
   "metadata": {},
   "outputs": [],
   "source": [
    "# Show the first 5 rows\n",
    "# Write the code"
   ]
  },
  {
   "cell_type": "code",
   "execution_count": null,
   "metadata": {},
   "outputs": [],
   "source": [
    "# Count the number of “?” in the dataframe.\n",
    "# Write the code"
   ]
  },
  {
   "cell_type": "code",
   "execution_count": null,
   "metadata": {},
   "outputs": [],
   "source": [
    "# Replace “?” to NaN and delete the row.\n",
    "# Write the code"
   ]
  },
  {
   "cell_type": "code",
   "execution_count": null,
   "metadata": {},
   "outputs": [],
   "source": [
    "print('Data Type（Before Change）\\n{}\\n'.format(auto.dtypes))"
   ]
  },
  {
   "cell_type": "code",
   "execution_count": null,
   "metadata": {},
   "outputs": [],
   "source": [
    "# Data Type Change\n",
    "# Write the code"
   ]
  },
  {
   "cell_type": "code",
   "execution_count": 9,
   "metadata": {},
   "outputs": [
    {
     "name": "stdout",
     "output_type": "stream",
     "text": [
      "Data Type（After Change）\n",
      "price           int64\n",
      "horsepower      int64\n",
      "width         float64\n",
      "height        float64\n",
      "dtype: object\n"
     ]
    }
   ],
   "source": [
    "auto = auto.assign(price=pd.to_numeric(auto.price))\n",
    "auto = auto.assign(horsepower=pd.to_numeric(auto.horsepower))\n",
    "print('Data Type（After Change）\\n{}'.format(auto.dtypes))"
   ]
  },
  {
   "cell_type": "code",
   "execution_count": 8,
   "metadata": {},
   "outputs": [
    {
     "name": "stdout",
     "output_type": "stream",
     "text": [
      "Data Type（After Change）\n",
      "price            int64\n",
      "width          float64\n",
      "engine-size      int64\n",
      "dtype: object\n"
     ]
    }
   ],
   "source": [
    "auto = auto.assign(price=pd.to_numeric(auto.price))\n",
    "#auto = auto.assign(horsepower=pd.to_numeric(auto.horsepower))\n",
    "print('Data Type（After Change）\\n{}'.format(auto.dtypes))"
   ]
  },
  {
   "cell_type": "code",
   "execution_count": 9,
   "metadata": {},
   "outputs": [
    {
     "data": {
      "text/html": [
       "<div>\n",
       "<style scoped>\n",
       "    .dataframe tbody tr th:only-of-type {\n",
       "        vertical-align: middle;\n",
       "    }\n",
       "\n",
       "    .dataframe tbody tr th {\n",
       "        vertical-align: top;\n",
       "    }\n",
       "\n",
       "    .dataframe thead th {\n",
       "        text-align: right;\n",
       "    }\n",
       "</style>\n",
       "<table border=\"1\" class=\"dataframe\">\n",
       "  <thead>\n",
       "    <tr style=\"text-align: right;\">\n",
       "      <th></th>\n",
       "      <th>price</th>\n",
       "      <th>width</th>\n",
       "      <th>engine-size</th>\n",
       "    </tr>\n",
       "  </thead>\n",
       "  <tbody>\n",
       "    <tr>\n",
       "      <th>price</th>\n",
       "      <td>1.000000</td>\n",
       "      <td>0.751265</td>\n",
       "      <td>0.872335</td>\n",
       "    </tr>\n",
       "    <tr>\n",
       "      <th>width</th>\n",
       "      <td>0.751265</td>\n",
       "      <td>1.000000</td>\n",
       "      <td>0.729436</td>\n",
       "    </tr>\n",
       "    <tr>\n",
       "      <th>engine-size</th>\n",
       "      <td>0.872335</td>\n",
       "      <td>0.729436</td>\n",
       "      <td>1.000000</td>\n",
       "    </tr>\n",
       "  </tbody>\n",
       "</table>\n",
       "</div>"
      ],
      "text/plain": [
       "                price     width  engine-size\n",
       "price        1.000000  0.751265     0.872335\n",
       "width        0.751265  1.000000     0.729436\n",
       "engine-size  0.872335  0.729436     1.000000"
      ]
     },
     "execution_count": 9,
     "metadata": {},
     "output_type": "execute_result"
    }
   ],
   "source": [
    "auto.corr()"
   ]
  },
  {
   "cell_type": "code",
   "execution_count": null,
   "metadata": {},
   "outputs": [],
   "source": [
    "# Import Data Split Library\n",
    "from sklearn.model_selection import train_test_split\n",
    "\n",
    "# Import Linear Regression Model\n",
    "from sklearn.linear_model import LinearRegression\n",
    "\n",
    "# Specify target variable as price. Other variables are explanatory variables.\n",
    "X = auto.drop('price', axis=1)\n",
    "y = auto['price']\n",
    "\n",
    "# Split trainset and testset\n",
    "X_train, X_test, y_train, y_test = train_test_split(X, y, test_size=0.5, random_state=0)\n",
    "\n",
    "# Initialize Multiple Linear Regression Model and Train Model\n",
    "model = LinearRegression()\n",
    "model.fit(X_train,y_train)\n",
    "\n",
    "# Coefficient of Determination \n",
    "print('Coefficient of Determination (train):{:.3f}'.format(model.score(X_train,y_train)))\n",
    "print('Coefficient of Determination (test):{:.3f}'.format(model.score(X_test,y_test)))\n",
    " \n",
    "# Regression Coefficient and Intercept\n",
    "print('\\nRegression Coefficient\\n{}'.format(pd.Series(model.coef_, index=X.columns)))\n",
    "print('Intercept: {:.3f}'.format(model.intercept_))"
   ]
  },
  {
   "cell_type": "code",
   "execution_count": null,
   "metadata": {},
   "outputs": [],
   "source": []
  }
 ],
 "metadata": {
  "kernelspec": {
   "display_name": "Python 3",
   "language": "python",
   "name": "python3"
  },
  "language_info": {
   "codemirror_mode": {
    "name": "ipython",
    "version": 3
   },
   "file_extension": ".py",
   "mimetype": "text/x-python",
   "name": "python",
   "nbconvert_exporter": "python",
   "pygments_lexer": "ipython3",
   "version": "3.8.3"
  }
 },
 "nbformat": 4,
 "nbformat_minor": 4
}
