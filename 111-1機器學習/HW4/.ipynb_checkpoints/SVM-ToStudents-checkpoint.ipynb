{
 "cells": [
  {
   "cell_type": "code",
   "execution_count": 2,
   "metadata": {},
   "outputs": [],
   "source": [
    "#import package\n",
    "import pandas as pd\n",
    "import numpy as np\n",
    "from sklearn.model_selection import KFold\n",
    "from sklearn import ensemble, metrics\n",
    "from sklearn.metrics import accuracy_score\n",
    "from sklearn.utils import shuffle\n",
    "import math"
   ]
  },
  {
   "cell_type": "code",
   "execution_count": null,
   "metadata": {},
   "outputs": [],
   "source": [
    "# 開啟 CSV 檔案\n",
    "#請輸入程式碼"
   ]
  },
  {
   "cell_type": "code",
   "execution_count": null,
   "metadata": {},
   "outputs": [],
   "source": [
    "#將dataset shuffle\n",
    "#請輸入程式碼"
   ]
  },
  {
   "cell_type": "code",
   "execution_count": null,
   "metadata": {},
   "outputs": [],
   "source": [
    "#svm\n",
    "#引入library\n",
    "#請輸入程式碼\n",
    "\n",
    "#10-fold cross-validation\n",
    "#請輸入程式碼\n",
    "\n",
    "#訓練模型\n",
    "#請輸入程式碼\n"
   ]
  },
  {
   "cell_type": "code",
   "execution_count": null,
   "metadata": {},
   "outputs": [],
   "source": [
    "print(\"Macro-average: {0}\".format(metrics.f1_score(expected,predicted,average='macro')))\n",
    "print(\"Micro-average: {0}\".format(metrics.f1_score(expected,predicted,average='micro')))\n",
    "print(metrics.classification_report(expected,predicted))\n",
    "print(metrics.confusion_matrix(expected, predicted))\n",
    "accuracy = accuracy_score(expected, predicted)\n",
    "print(\"Accuracy: %.2f%%\" % (accuracy * 100.0))\n",
    "\n",
    "print(\"Average = macro\")\n",
    "print('precision:',metrics.precision_score(expected, predicted,average='macro')) \n",
    "print('recall:',metrics.recall_score(expected, predicted,average='macro'))\n",
    "print('F1-score:',metrics.f1_score(expected, predicted,labels=[1,2,3,4],average='macro'))\n",
    "\n",
    "print(\"\\n\")\n",
    "print(\"Average = micro\")\n",
    "print('precision:', metrics.precision_score(expected, predicted, average='micro')) \n",
    "print('recall:',metrics.recall_score(expected, predicted,average='micro'))\n",
    "print('F1-score:',metrics.f1_score(expected, predicted,labels=[1,2,3,4],average='micro'))\n",
    "\n",
    "print(\"\\n\")\n",
    "print(\"Average = weighted\")\n",
    "print('precision:', metrics.precision_score(expected, predicted, average='weighted'))\n",
    "print('recall:',metrics.recall_score(expected, predicted,average='micro'))\n",
    "print('F1-score:',metrics.f1_score(expected,predicted,labels=[1,2,3,4],average='weighted'))"
   ]
  }
 ],
 "metadata": {
  "kernelspec": {
   "display_name": "Python 3",
   "language": "python",
   "name": "python3"
  },
  "language_info": {
   "codemirror_mode": {
    "name": "ipython",
    "version": 3
   },
   "file_extension": ".py",
   "mimetype": "text/x-python",
   "name": "python",
   "nbconvert_exporter": "python",
   "pygments_lexer": "ipython3",
   "version": "3.8.3"
  }
 },
 "nbformat": 4,
 "nbformat_minor": 2
}
