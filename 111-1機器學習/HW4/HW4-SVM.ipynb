{
 "cells": [
  {
   "cell_type": "markdown",
   "metadata": {},
   "source": [
    "# Student ID: 111522071"
   ]
  },
  {
   "cell_type": "markdown",
   "metadata": {},
   "source": [
    "## HW 4-1"
   ]
  },
  {
   "cell_type": "code",
   "execution_count": 1,
   "metadata": {},
   "outputs": [],
   "source": [
    "#import package\n",
    "import pandas as pd\n",
    "import numpy as np\n",
    "from sklearn.model_selection import KFold\n",
    "from sklearn import ensemble, metrics\n",
    "from sklearn.metrics import accuracy_score\n",
    "from sklearn.utils import shuffle\n",
    "import math"
   ]
  },
  {
   "cell_type": "code",
   "execution_count": 2,
   "metadata": {},
   "outputs": [],
   "source": [
    "# Read CSV\n",
    "dataset = pd.read_csv(\"train.csv\")"
   ]
  },
  {
   "cell_type": "code",
   "execution_count": 3,
   "metadata": {},
   "outputs": [],
   "source": [
    "#將dataset shuffle\n",
    "dataset = shuffle(dataset)\n",
    "label = dataset.label\n",
    "dataset = dataset[:-1]"
   ]
  },
  {
   "cell_type": "code",
   "execution_count": 37,
   "metadata": {},
   "outputs": [],
   "source": [
    "#svm\n",
    "#Import library\n",
    "from sklearn.multiclass import OneVsRestClassifier\n",
    "from sklearn.svm import SVC\n",
    "from numpy import random\n",
    "\n",
    "#10-fold cross-validation\n",
    "kfold = KFold(10)\n",
    "predicted = []\n",
    "expected = []\n",
    "svm = OneVsRestClassifier(SVC(gamma='scale'))\n",
    "#Train model\n",
    "for train,valid in kfold.split(dataset):\n",
    "    X_train = dataset.iloc[train]\n",
    "    Y_train = label.iloc[train]\n",
    "\n",
    "    X_valid = dataset.iloc[valid]\n",
    "    Y_valid = label.iloc[valid]\n",
    "\n",
    "    svm.fit(X_train,Y_train)\n",
    "    expected.extend(Y_valid)\n",
    "    predicted.extend(svm.predict(X_valid))\n",
    "\n",
    "# test\n",
    "rand_int = random.randint(0,1741,10) # 0~1741 選10筆\n",
    "\n",
    "X_test = dataset.iloc[rand_int]\n",
    "Y_test = label.iloc[rand_int]\n",
    "\n",
    "SVM_expected_test = Y_test\n",
    "SVM_predicted_test = svm.predict(X_test)"
   ]
  },
  {
   "cell_type": "code",
   "execution_count": 38,
   "metadata": {},
   "outputs": [
    {
     "name": "stdout",
     "output_type": "stream",
     "text": [
      "SVM_expected_test = [5 7 0 7 0 5 4 0 4 0]\n",
      "SVM_predicted_test = [5 7 0 7 0 5 4 0 4 0]\n"
     ]
    }
   ],
   "source": [
    "print(\"SVM_expected_test = {}\".format(SVM_expected_test.values))\n",
    "print(\"SVM_predicted_test = {}\".format(SVM_predicted_test))"
   ]
  },
  {
   "cell_type": "code",
   "execution_count": 40,
   "metadata": {},
   "outputs": [],
   "source": [
    "# print(\"Macro-average: {0}\".format(metrics.f1_score(expected,predicted,average='macro')))\n",
    "# print(\"Micro-average: {0}\".format(metrics.f1_score(expected,predicted,average='micro')))\n",
    "def print_acc(expected,predicted):\n",
    "    print(metrics.classification_report(expected,predicted))\n",
    "    print(metrics.confusion_matrix(expected, predicted))\n",
    "    accuracy = accuracy_score(expected, predicted)\n",
    "    print(\"Accuracy: %.2f%%\" % (accuracy * 100.0))\n",
    "\n",
    "    # print(\"Average = macro\")\n",
    "    print('precision:',metrics.precision_score(expected, predicted,average='macro')) \n",
    "    print('recall:',metrics.recall_score(expected, predicted,average='macro'))\n",
    "    print('F1-score:',metrics.f1_score(expected, predicted,average='macro'))\n",
    "\n",
    "# print(\"\\n\")\n",
    "# print(\"Average = micro\")\n",
    "# print('precision:', metrics.precision_score(expected, predicted, average='micro')) \n",
    "# print('recall:',metrics.recall_score(expected, predicted,average='micro'))\n",
    "# print('F1-score:',metrics.f1_score(expected, predicted,labels=[0,1,2,3,4,5,6,7],average='micro'))\n",
    "\n",
    "# print(\"\\n\")\n",
    "# print(\"Average = weighted\")\n",
    "# print('precision:', metrics.precision_score(expected, predicted, average='weighted'))\n",
    "# print('recall:',metrics.recall_score(expected, predicted,average='micro'))\n",
    "# print('F1-score:',metrics.f1_score(expected,predicted,labels=[0,1,2,3,4,5,6,7],average='weighted'))"
   ]
  },
  {
   "cell_type": "code",
   "execution_count": 41,
   "metadata": {},
   "outputs": [
    {
     "name": "stdout",
     "output_type": "stream",
     "text": [
      "              precision    recall  f1-score   support\n",
      "\n",
      "           0       1.00      1.00      1.00         4\n",
      "           4       1.00      1.00      1.00         2\n",
      "           5       1.00      1.00      1.00         2\n",
      "           7       1.00      1.00      1.00         2\n",
      "\n",
      "    accuracy                           1.00        10\n",
      "   macro avg       1.00      1.00      1.00        10\n",
      "weighted avg       1.00      1.00      1.00        10\n",
      "\n",
      "[[4 0 0 0]\n",
      " [0 2 0 0]\n",
      " [0 0 2 0]\n",
      " [0 0 0 2]]\n",
      "Accuracy: 100.00%\n",
      "precision: 1.0\n",
      "recall: 1.0\n",
      "F1-score: 1.0\n"
     ]
    }
   ],
   "source": [
    "print_acc(SVM_expected_test,SVM_predicted_test)"
   ]
  },
  {
   "cell_type": "markdown",
   "metadata": {},
   "source": [
    "## HW 4-2"
   ]
  },
  {
   "cell_type": "code",
   "execution_count": 42,
   "metadata": {},
   "outputs": [],
   "source": [
    "#ramdom forest\n",
    "#Import library\n",
    "from sklearn.ensemble import RandomForestClassifier\n",
    "from sklearn.svm import SVC\n",
    "from numpy import random\n",
    "\n",
    "#10-fold cross-validation\n",
    "kfold = KFold(10)\n",
    "predicted = []\n",
    "expected = []\n",
    "forest = RandomForestClassifier(n_estimators = 100)\n",
    "#Train model\n",
    "for train,valid in kfold.split(dataset):\n",
    "    X_train = dataset.iloc[train]\n",
    "    Y_train = label.iloc[train]\n",
    "\n",
    "    X_valid = dataset.iloc[valid]\n",
    "    Y_valid = label.iloc[valid]\n",
    "\n",
    "    forest.fit(X_train,Y_train)\n",
    "    expected.extend(Y_valid)\n",
    "    predicted.extend(forest.predict(X_valid))\n",
    "\n",
    "# test\n",
    "rand_int = random.randint(0,1741,10) # 0~1741 選10筆\n",
    "\n",
    "X_test = dataset.iloc[rand_int]\n",
    "Y_test = label.iloc[rand_int]\n",
    "\n",
    "forest_expected_test = Y_test\n",
    "forest_predicted_test = forest.predict(X_test)"
   ]
  },
  {
   "cell_type": "code",
   "execution_count": 43,
   "metadata": {},
   "outputs": [
    {
     "name": "stdout",
     "output_type": "stream",
     "text": [
      "forest_expected_test = [5 5 3 7 2 4 7 6 3 4]\n",
      "forest_predicted_test = [5 5 3 7 2 4 7 6 3 4]\n"
     ]
    }
   ],
   "source": [
    "print(\"forest_expected_test = {}\".format(forest_expected_test.values))\n",
    "print(\"forest_predicted_test = {}\".format(forest_predicted_test))"
   ]
  },
  {
   "cell_type": "code",
   "execution_count": 44,
   "metadata": {},
   "outputs": [
    {
     "name": "stdout",
     "output_type": "stream",
     "text": [
      "              precision    recall  f1-score   support\n",
      "\n",
      "           2       1.00      1.00      1.00         1\n",
      "           3       1.00      1.00      1.00         2\n",
      "           4       1.00      1.00      1.00         2\n",
      "           5       1.00      1.00      1.00         2\n",
      "           6       1.00      1.00      1.00         1\n",
      "           7       1.00      1.00      1.00         2\n",
      "\n",
      "    accuracy                           1.00        10\n",
      "   macro avg       1.00      1.00      1.00        10\n",
      "weighted avg       1.00      1.00      1.00        10\n",
      "\n",
      "[[1 0 0 0 0 0]\n",
      " [0 2 0 0 0 0]\n",
      " [0 0 2 0 0 0]\n",
      " [0 0 0 2 0 0]\n",
      " [0 0 0 0 1 0]\n",
      " [0 0 0 0 0 2]]\n",
      "Accuracy: 100.00%\n",
      "precision: 1.0\n",
      "recall: 1.0\n",
      "F1-score: 1.0\n"
     ]
    }
   ],
   "source": [
    "print_acc(forest_expected_test,forest_predicted_test)"
   ]
  }
 ],
 "metadata": {
  "kernelspec": {
   "display_name": "Python 3.9.13 ('Py39')",
   "language": "python",
   "name": "python3"
  },
  "language_info": {
   "codemirror_mode": {
    "name": "ipython",
    "version": 3
   },
   "file_extension": ".py",
   "mimetype": "text/x-python",
   "name": "python",
   "nbconvert_exporter": "python",
   "pygments_lexer": "ipython3",
   "version": "3.9.13"
  },
  "vscode": {
   "interpreter": {
    "hash": "1135d4ce2e62188be40d4e02745e428b5f9a00ffea66908dfb574ff6f496fbc3"
   }
  }
 },
 "nbformat": 4,
 "nbformat_minor": 2
}
