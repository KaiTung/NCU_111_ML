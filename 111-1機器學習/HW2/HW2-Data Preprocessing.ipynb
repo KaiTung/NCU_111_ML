{
 "cells": [
  {
   "cell_type": "markdown",
   "metadata": {},
   "source": [
    "# Please Type your student ID: 111522071"
   ]
  },
  {
   "cell_type": "markdown",
   "metadata": {},
   "source": [
    "# Q 1-1"
   ]
  },
  {
   "cell_type": "code",
   "execution_count": 1,
   "metadata": {},
   "outputs": [
    {
     "name": "stdout",
     "output_type": "stream",
     "text": [
      "1275\n",
      "Min:  -0.977277879876411\n",
      "Max:  2.240893199201458\n",
      "Sum:  7.380231707288347\n",
      "[[45 45 45 45 45]\n",
      " [45 45 45 45 45]\n",
      " [45 45 45 45 45]\n",
      " [45 45 45 45 45]\n",
      " [45 45 45 45 45]]\n"
     ]
    }
   ],
   "source": [
    "import numpy as np\n",
    "from numpy import random\n",
    "\n",
    "array1 = np.arange(1,51)\n",
    "\n",
    "random.seed(0)\n",
    "array2 = random.randn(10)\n",
    "\n",
    "print(array1.sum())\n",
    "print(\"Min: \",array2.min())\n",
    "print(\"Max: \",array2.max())\n",
    "print(\"Sum: \",array2.sum())\n",
    "\n",
    "matrix1 = np.array([3] * 25).reshape(5,5)\n",
    "print(matrix1.dot(matrix1))"
   ]
  },
  {
   "cell_type": "markdown",
   "metadata": {},
   "source": [
    "# Q 1-2"
   ]
  },
  {
   "cell_type": "code",
   "execution_count": 11,
   "metadata": {},
   "outputs": [
    {
     "name": "stdout",
     "output_type": "stream",
     "text": [
      "[[ 1.624 -0.612 -0.528 -1.073]\n",
      " [ 0.865 -2.302  1.745 -0.761]\n",
      " [ 0.319 -0.249  1.462 -2.06 ]\n",
      " [-0.322 -0.384  1.134 -1.1  ]]\n",
      "[[-0.417 -0.056 -2.136  1.64 ]\n",
      " [-1.793 -0.842  0.503 -1.245]\n",
      " [-1.058 -0.909  0.551  2.292]\n",
      " [ 0.042 -1.118  0.539 -0.596]]\n",
      "[[-0.677  0.034  1.128 -1.76 ]\n",
      " [-1.552  1.937  0.877  0.948]\n",
      " [-0.338  0.227  0.806 -4.722]\n",
      " [-0.013  0.429  0.611  0.656]]\n",
      "[[ 0.934  2.103 -4.647  2.855]\n",
      " [ 1.889  1.154 -2.454  8.739]\n",
      " [-1.318  1.166 -1.111  5.413]\n",
      " [-0.422  0.54   0.528  3.204]]\n"
     ]
    }
   ],
   "source": [
    "\n",
    "import numpy as np\n",
    "from numpy import random\n",
    "\n",
    "random.seed(1)\n",
    "m1 = random.randn(16).reshape(4,4)\n",
    "print(np.around(m1,3))\n",
    "\n",
    "random.seed(2)\n",
    "m2 = random.randn(16).reshape(4,4)\n",
    "print(np.around(m2,3))\n",
    "\n",
    "print(np.around(m1*m2,3))\n",
    "print(np.around(np.dot(m1,m2),3))"
   ]
  },
  {
   "cell_type": "markdown",
   "metadata": {},
   "source": [
    "# Q 1-3"
   ]
  },
  {
   "cell_type": "code",
   "execution_count": 12,
   "metadata": {},
   "outputs": [
    {
     "name": "stdout",
     "output_type": "stream",
     "text": [
      "  ID Sex  Money   Name\n",
      "0  1   F   1000  Alice\n",
      "1  2   F   2000    Bob\n",
      "2  3   M    500  Candy\n",
      "4  5   F    700   Ella\n",
      "----------------------------------------\n",
      "Sex\n",
      "F    1233.333333\n",
      "M     400.000000\n",
      "Name: Money, dtype: float64\n",
      "----------------------------------------\n",
      "  ID Sex  Money   Name  Math  English\n",
      "0  3   M    500  Candy    60       80\n",
      "1  4   M    300  David    30       20\n",
      "----------------------------------------\n",
      "ID          17.0\n",
      "Money      400.0\n",
      "Math        45.0\n",
      "English     50.0\n",
      "dtype: float64\n"
     ]
    }
   ],
   "source": [
    "from turtle import pd\n",
    "import pandas as pd\n",
    "from pandas import Series,DataFrame\n",
    "\n",
    "attri_data1 = {'ID':['1','2','3','4','5'],\n",
    "'Sex':['F','F','M','M','F'],\n",
    "'Money':[1000,2000,500,300,700],\n",
    "'Name':['Alice','Bob','Candy','David','Ella']}\n",
    "\n",
    "attri_data_frame1 = DataFrame(attri_data1)\n",
    "print(attri_data_frame1[attri_data_frame1['Money'] >= 500])\n",
    "\n",
    "print('-'*40)\n",
    "print(attri_data_frame1.groupby('Sex')['Money'].mean())\n",
    "\n",
    "\n",
    "attri_data2 = {'ID':['3','4','7'],\n",
    "'Math':[60,30,40],\n",
    "'English':[80,20,30]}\n",
    "attri_data_frame2 = DataFrame(attri_data2)\n",
    "\n",
    "print('-'*40)\n",
    "print(pd.merge(attri_data_frame1,attri_data_frame2))\n",
    "\n",
    "print('-'*40)\n",
    "print(pd.merge(attri_data_frame1,attri_data_frame2).mean())"
   ]
  },
  {
   "cell_type": "markdown",
   "metadata": {},
   "source": [
    "# Q 1-4"
   ]
  },
  {
   "cell_type": "code",
   "execution_count": 15,
   "metadata": {},
   "outputs": [
    {
     "name": "stdout",
     "output_type": "stream",
     "text": [
      "     ID Sex        Money\n",
      "0     1   F  1017.886285\n",
      "1     2   M  1004.365099\n",
      "2     3   M  1000.964975\n",
      "3     4   F   981.365073\n",
      "4     5   F   997.226118\n",
      "..  ...  ..          ...\n",
      "95   96   M   998.905457\n",
      "96   97   F  1006.790716\n",
      "97   98   M   991.445628\n",
      "98   99   F   996.997939\n",
      "99  100   F  1021.581493\n",
      "\n",
      "[100 rows x 3 columns]\n",
      "----------------------------------------\n",
      "Problem 1:\n",
      "    ID Sex       Money\n",
      "88  89   F  970.842622\n",
      "----------------------------------------\n",
      "Problem 2:\n",
      "     ID Sex        Money\n",
      "0     1   F  1017.886285\n",
      "13   14   M  1017.095731\n",
      "22   23   M  1014.861484\n",
      "31   32   F  1019.761108\n",
      "38   39   M  1011.239780\n",
      "50   51   F  1010.131834\n",
      "52   53   F  1011.081875\n",
      "53   54   F  1011.193907\n",
      "54   55   F  1014.875431\n",
      "60   61   F  1010.481475\n",
      "61   62   F  1013.337378\n",
      "63   64   M  1017.746450\n",
      "69   70   M  1019.389785\n",
      "73   74   F  1017.696273\n",
      "79   80   F  1013.916629\n",
      "85   86   F  1011.678823\n",
      "99  100   F  1021.581493\n",
      "----------------------------------------\n",
      "Problem 3:\n",
      "     ID Sex        Money\n",
      "99  100   F  1021.581493\n",
      "31   32   F  1019.761108\n",
      "69   70   M  1019.389785\n",
      "0     1   F  1017.886285\n",
      "63   64   M  1017.746450\n",
      "73   74   F  1017.696273\n",
      "13   14   M  1017.095731\n",
      "54   55   F  1014.875431\n",
      "22   23   M  1014.861484\n",
      "79   80   F  1013.916629\n",
      "61   62   F  1013.337378\n",
      "85   86   F  1011.678823\n",
      "38   39   M  1011.239780\n",
      "53   54   F  1011.193907\n",
      "52   53   F  1011.081875\n",
      "60   61   F  1010.481475\n",
      "50   51   F  1010.131834\n"
     ]
    }
   ],
   "source": [
    "import numpy as np\n",
    "from numpy import random\n",
    "import pandas as pd\n",
    "from pandas import DataFrame\n",
    "\n",
    "np.random.seed(2)\n",
    "array2 = np.random.randint(2, size=100)\n",
    "\n",
    "np.random.seed(3)\n",
    "array3=np.random.normal(1000, 10, size=100)\n",
    "\n",
    "Generated_Matrix = {\n",
    "    'ID':np.arange(1,101),\n",
    "    'Sex':np.where(array2==0,'F','M'),\n",
    "    'Money':array3\n",
    "    }\n",
    "\n",
    "G_M = DataFrame(Generated_Matrix)\n",
    "\n",
    "print(G_M)\n",
    "print('-'*40)\n",
    "print(\"Problem 1:\")\n",
    "print(G_M[G_M['Money'] == G_M['Money'].min()])\n",
    "\n",
    "print('-'*40)\n",
    "print(\"Problem 2:\")\n",
    "print(G_M[ G_M['Money'] >= 1010 ])\n",
    "\n",
    "print('-'*40)\n",
    "print(\"Problem 3:\")\n",
    "print(G_M[ G_M['Money'] >= 1010 ].sort_values('Money',ascending=False))"
   ]
  },
  {
   "cell_type": "markdown",
   "metadata": {},
   "source": [
    "# Q 1-5"
   ]
  },
  {
   "cell_type": "code",
   "execution_count": 16,
   "metadata": {},
   "outputs": [
    {
     "name": "stdout",
     "output_type": "stream",
     "text": [
      "           0         1         2         3         4         5\n",
      "0   0.548814  0.715189  0.602763  0.544883  0.423655  0.645894\n",
      "1   0.437587  0.891773  0.963663  0.383442  0.791725  0.528895\n",
      "3   0.778157  0.870012  0.978618  0.799159  0.461479  0.780529\n",
      "4   0.118274  0.639921  0.143353  0.944669  0.521848  0.414662\n",
      "9   0.208877  0.161310  0.653108  0.253292  0.466311  0.244426\n",
      "11  0.820993  0.097101  0.837945  0.096098  0.976459  0.468651\n",
      "12  0.976761  0.604846  0.739264  0.039188  0.282807  0.120197\n",
      "13  0.296140  0.118728  0.317983  0.414263  0.064147  0.692472\n",
      "14  0.566601  0.265389  0.523248  0.093941  0.575946  0.929296\n",
      "           0         1         2         3         4         5\n",
      "0   0.548814  0.715189  0.602763  0.544883  0.423655  0.645894\n",
      "1   0.437587  0.891773  0.963663  0.383442  0.791725  0.528895\n",
      "2   0.000000  0.925597  0.071036  0.087129  0.020218  0.832620\n",
      "3   0.778157  0.870012  0.978618  0.799159  0.461479  0.780529\n",
      "4   0.118274  0.639921  0.143353  0.944669  0.521848  0.414662\n",
      "5   0.264556  0.774234  0.000000  0.568434  0.018790  0.617635\n",
      "6   0.612096  0.616934  0.000000  0.681820  0.359508  0.437032\n",
      "7   0.697631  0.060225  0.000000  0.000000  0.210383  0.128926\n",
      "8   0.315428  0.363711  0.570197  0.000000  0.988374  0.102045\n",
      "9   0.208877  0.161310  0.653108  0.253292  0.466311  0.244426\n",
      "10  0.158970  0.110375  0.656330  0.138183  0.196582  0.000000\n",
      "11  0.820993  0.097101  0.837945  0.096098  0.976459  0.468651\n",
      "12  0.976761  0.604846  0.739264  0.039188  0.282807  0.120197\n",
      "13  0.296140  0.118728  0.317983  0.414263  0.064147  0.692472\n",
      "14  0.566601  0.265389  0.523248  0.093941  0.575946  0.929296\n",
      "           0         1         2         3         4         5\n",
      "0   0.548814  0.715189  0.602763  0.544883  0.423655  0.645894\n",
      "1   0.437587  0.891773  0.963663  0.383442  0.791725  0.528895\n",
      "2   0.485778  0.925597  0.071036  0.087129  0.020218  0.832620\n",
      "3   0.778157  0.870012  0.978618  0.799159  0.461479  0.780529\n",
      "4   0.118274  0.639921  0.143353  0.944669  0.521848  0.414662\n",
      "5   0.264556  0.774234  0.588126  0.568434  0.018790  0.617635\n",
      "6   0.612096  0.616934  0.588126  0.681820  0.359508  0.437032\n",
      "7   0.697631  0.060225  0.588126  0.388038  0.210383  0.128926\n",
      "8   0.315428  0.363711  0.570197  0.388038  0.988374  0.102045\n",
      "9   0.208877  0.161310  0.653108  0.253292  0.466311  0.244426\n",
      "10  0.158970  0.110375  0.656330  0.138183  0.196582  0.495949\n",
      "11  0.820993  0.097101  0.837945  0.096098  0.976459  0.468651\n",
      "12  0.976761  0.604846  0.739264  0.039188  0.282807  0.120197\n",
      "13  0.296140  0.118728  0.317983  0.414263  0.064147  0.692472\n",
      "14  0.566601  0.265389  0.523248  0.093941  0.575946  0.929296\n"
     ]
    }
   ],
   "source": [
    "import numpy as np\n",
    "from numpy import nan as NA\n",
    "import pandas as pd\n",
    "import numpy.random as random\n",
    "random.seed(0)\n",
    "df2 = pd.DataFrame(np.random.rand(15, 6))\n",
    "df2.iloc[2,0] = NA\n",
    "df2.iloc[5:8,2] = NA\n",
    "df2.iloc[7:9,3] = NA\n",
    "df2.iloc[10,5] = NA\n",
    "\n",
    "#drop\n",
    "t1 = df2.dropna()\n",
    "print(t1)\n",
    "#fill0\n",
    "t2 = df2.fillna(0)\n",
    "print(t2)\n",
    "#fill mean\n",
    "t3 = df2.fillna(df2.mean())\n",
    "print(t3)"
   ]
  },
  {
   "cell_type": "markdown",
   "metadata": {},
   "source": [
    "# Q 1-6"
   ]
  },
  {
   "cell_type": "code",
   "execution_count": 18,
   "metadata": {},
   "outputs": [
    {
     "data": {
      "image/png": "[encoded data removed]",
      "text/plain": [
       "<Figure size 640x480 with 1 Axes>"
      ]
     },
     "metadata": {},
     "output_type": "display_data"
    }
   ],
   "source": [
    "# Import matplotlib.pyplot as plt\n",
    "# From bs4 import BeautifulSoup\n",
    "# Import requests module\n",
    "from socket import inet_aton\n",
    "import requests\n",
    "import numpy as np\n",
    "from bs4 import BeautifulSoup\n",
    "import matplotlib.pyplot as plt\n",
    "\n",
    "# Declare three lists: month, high, low \n",
    "month,high,low = [],[],[]\n",
    "url = 'https://www.twse.com.tw/exchangeReport/FMSRFK?response=html&date=20210101&stockNo=2330'\n",
    "\n",
    "\n",
    "# Use requests get url\n",
    "headers = {'User-Agent': 'Mozilla/5.0 (Windows NT 6.1; WOW64; rv:50.0) Gecko/20100101 Firefox/50.0'}\n",
    "Response_obj = requests.get(url,headers = headers)\n",
    "\n",
    "# Use BeautifulSoup to parse the html\n",
    "sp = BeautifulSoup(Response_obj.text,'html.parser')\n",
    "\n",
    "# Find table and save as datas\n",
    "datas = sp.select(\"table\")[0]\n",
    "\n",
    "# Choose tr tag of tbody in datas\n",
    "trs =sp.findAll(\"tr\")\n",
    "\n",
    "# Use loop to find td to read the data of every month\n",
    "# The first column of td is year. We can ignore\n",
    "# The second column of td is month. Add into \"month list.\"\n",
    "# The third column of td is the highest price. Add into \"high list.\"\n",
    "# The fourth column of td is the lowest price. Add into \"low list.\"\n",
    "a2 = []\n",
    "\n",
    "for tr in trs:\n",
    "    tds = tr.find_all('td')\n",
    "    a1 = []\n",
    "    for td in tds:\n",
    "        a1.append(td.text)\n",
    "    a2.append(a1)\n",
    "for i in a2[2:]:\n",
    "    month.append(int(i[1]))\n",
    "    high.append(float(i[2]))\n",
    "    low.append(float(i[3]))\n",
    "\n",
    "for i in range(0,12):\n",
    "    plt.annotate(high[i], (i+1,high[i]))\n",
    "    plt.annotate(low[i], (i+1,low[i]))\n",
    "    \n",
    "month = range(1,13)  \n",
    "plt.plot(month,high,label=\"Highest\",color=\"red\")\n",
    "plt.plot(month,low,label=\"Lowest\",color=\"green\")\n",
    "plt.xlabel(\"month\")\n",
    "plt.ylabel(\"price\")\n",
    "plt.legend(loc='best')\n",
    "\n",
    "# Show the chart\n",
    "plt.show()"
   ]
  },
  {
   "cell_type": "code",
   "execution_count": null,
   "metadata": {},
   "outputs": [],
   "source": []
  }
 ],
 "metadata": {
  "kernelspec": {
   "display_name": "Python 3.9.13 ('Py39')",
   "language": "python",
   "name": "python3"
  },
  "language_info": {
   "codemirror_mode": {
    "name": "ipython",
    "version": 3
   },
   "file_extension": ".py",
   "mimetype": "text/x-python",
   "name": "python",
   "nbconvert_exporter": "python",
   "pygments_lexer": "ipython3",
   "version": "3.9.13"
  },
  "vscode": {
   "interpreter": {
    "hash": "1135d4ce2e62188be40d4e02745e428b5f9a00ffea66908dfb574ff6f496fbc3"
   }
  }
 },
 "nbformat": 4,
 "nbformat_minor": 4
}
